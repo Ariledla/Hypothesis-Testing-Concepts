{
  "nbformat": 4,
  "nbformat_minor": 0,
  "metadata": {
    "colab": {
      "provenance": []
    },
    "kernelspec": {
      "name": "python3",
      "display_name": "Python 3"
    },
    "language_info": {
      "name": "python"
    }
  },
  "cells": [
    {
      "cell_type": "markdown",
      "source": [
        "**Ariel Saradilla**\n",
        "\n",
        "**DS33A**"
      ],
      "metadata": {
        "id": "G8HXyv-X9B1V"
      }
    },
    {
      "cell_type": "markdown",
      "source": [
        "#Assignment Guidance: Hypothesis Testing Concepts"
      ],
      "metadata": {
        "id": "tN6Vfo3N9Etr"
      }
    },
    {
      "cell_type": "code",
      "source": [
        "import pandas as pd\n",
        "import seaborn as sns\n",
        "import matplotlib.pyplot as plt\n",
        "from scipy.stats import skew\n",
        "from scipy.stats import shapiro\n",
        "from scipy.stats import mannwhitneyu"
      ],
      "metadata": {
        "id": "MU_5AWmC9MJy"
      },
      "execution_count": null,
      "outputs": []
    },
    {
      "cell_type": "code",
      "source": [
        "df = pd.read_csv(\"/content/marketing_campaign.csv\", sep='\\t')"
      ],
      "metadata": {
        "id": "85dTkCnZ9JZs"
      },
      "execution_count": null,
      "outputs": []
    },
    {
      "cell_type": "markdown",
      "source": [
        "##**Soal 1: Eksplorasi dan Statistik Deskriptif**\n",
        "```\n",
        " a. Pahami struktur dataset yang digunakan dan identifikasi variabel penting.\n",
        " b. Gunakan teknik eksplorasi data untuk mengenali pola dan karakteristik data.\n",
        " c. Tampilkan ringkasan statistik deskriptif yang memberikan gambaran tentang distribusi data.\n",
        " d. Interpretasikan hasil eksplorasi untuk memahami distribusi data dan kemungkinan\n",
        "    permasalahan dalam dataset.\n",
        "\n",
        "Goal: Memahami distribusi dan karakteristik data sebelum melakukan uji hipotesis.\n"
      ],
      "metadata": {
        "id": "yx_PYYBW9Oli"
      }
    },
    {
      "cell_type": "code",
      "source": [
        "df.head()"
      ],
      "metadata": {
        "colab": {
          "base_uri": "https://localhost:8080/",
          "height": 236
        },
        "id": "LZE6IMUC9PLM",
        "outputId": "8e4f6252-c3a1-4e94-f9b4-68cb996515d6"
      },
      "execution_count": null,
      "outputs": [
        {
          "output_type": "execute_result",
          "data": {
            "text/plain": [
              "     ID  Year_Birth   Education Marital_Status   Income  Kidhome  Teenhome  \\\n",
              "0  5524        1957  Graduation         Single  58138.0        0         0   \n",
              "1  2174        1954  Graduation         Single  46344.0        1         1   \n",
              "2  4141        1965  Graduation       Together  71613.0        0         0   \n",
              "3  6182        1984  Graduation       Together  26646.0        1         0   \n",
              "4  5324        1981         PhD        Married  58293.0        1         0   \n",
              "\n",
              "  Dt_Customer  Recency  MntWines  ...  NumWebVisitsMonth  AcceptedCmp3  \\\n",
              "0  04-09-2012       58       635  ...                  7             0   \n",
              "1  08-03-2014       38        11  ...                  5             0   \n",
              "2  21-08-2013       26       426  ...                  4             0   \n",
              "3  10-02-2014       26        11  ...                  6             0   \n",
              "4  19-01-2014       94       173  ...                  5             0   \n",
              "\n",
              "   AcceptedCmp4  AcceptedCmp5  AcceptedCmp1  AcceptedCmp2  Complain  \\\n",
              "0             0             0             0             0         0   \n",
              "1             0             0             0             0         0   \n",
              "2             0             0             0             0         0   \n",
              "3             0             0             0             0         0   \n",
              "4             0             0             0             0         0   \n",
              "\n",
              "   Z_CostContact  Z_Revenue  Response  \n",
              "0              3         11         1  \n",
              "1              3         11         0  \n",
              "2              3         11         0  \n",
              "3              3         11         0  \n",
              "4              3         11         0  \n",
              "\n",
              "[5 rows x 29 columns]"
            ],
            "text/html": [
              "\n",
              "  <div id=\"df-ed975b55-51f0-45e8-bd34-89b79f8af35f\" class=\"colab-df-container\">\n",
              "    <div>\n",
              "<style scoped>\n",
              "    .dataframe tbody tr th:only-of-type {\n",
              "        vertical-align: middle;\n",
              "    }\n",
              "\n",
              "    .dataframe tbody tr th {\n",
              "        vertical-align: top;\n",
              "    }\n",
              "\n",
              "    .dataframe thead th {\n",
              "        text-align: right;\n",
              "    }\n",
              "</style>\n",
              "<table border=\"1\" class=\"dataframe\">\n",
              "  <thead>\n",
              "    <tr style=\"text-align: right;\">\n",
              "      <th></th>\n",
              "      <th>ID</th>\n",
              "      <th>Year_Birth</th>\n",
              "      <th>Education</th>\n",
              "      <th>Marital_Status</th>\n",
              "      <th>Income</th>\n",
              "      <th>Kidhome</th>\n",
              "      <th>Teenhome</th>\n",
              "      <th>Dt_Customer</th>\n",
              "      <th>Recency</th>\n",
              "      <th>MntWines</th>\n",
              "      <th>...</th>\n",
              "      <th>NumWebVisitsMonth</th>\n",
              "      <th>AcceptedCmp3</th>\n",
              "      <th>AcceptedCmp4</th>\n",
              "      <th>AcceptedCmp5</th>\n",
              "      <th>AcceptedCmp1</th>\n",
              "      <th>AcceptedCmp2</th>\n",
              "      <th>Complain</th>\n",
              "      <th>Z_CostContact</th>\n",
              "      <th>Z_Revenue</th>\n",
              "      <th>Response</th>\n",
              "    </tr>\n",
              "  </thead>\n",
              "  <tbody>\n",
              "    <tr>\n",
              "      <th>0</th>\n",
              "      <td>5524</td>\n",
              "      <td>1957</td>\n",
              "      <td>Graduation</td>\n",
              "      <td>Single</td>\n",
              "      <td>58138.0</td>\n",
              "      <td>0</td>\n",
              "      <td>0</td>\n",
              "      <td>04-09-2012</td>\n",
              "      <td>58</td>\n",
              "      <td>635</td>\n",
              "      <td>...</td>\n",
              "      <td>7</td>\n",
              "      <td>0</td>\n",
              "      <td>0</td>\n",
              "      <td>0</td>\n",
              "      <td>0</td>\n",
              "      <td>0</td>\n",
              "      <td>0</td>\n",
              "      <td>3</td>\n",
              "      <td>11</td>\n",
              "      <td>1</td>\n",
              "    </tr>\n",
              "    <tr>\n",
              "      <th>1</th>\n",
              "      <td>2174</td>\n",
              "      <td>1954</td>\n",
              "      <td>Graduation</td>\n",
              "      <td>Single</td>\n",
              "      <td>46344.0</td>\n",
              "      <td>1</td>\n",
              "      <td>1</td>\n",
              "      <td>08-03-2014</td>\n",
              "      <td>38</td>\n",
              "      <td>11</td>\n",
              "      <td>...</td>\n",
              "      <td>5</td>\n",
              "      <td>0</td>\n",
              "      <td>0</td>\n",
              "      <td>0</td>\n",
              "      <td>0</td>\n",
              "      <td>0</td>\n",
              "      <td>0</td>\n",
              "      <td>3</td>\n",
              "      <td>11</td>\n",
              "      <td>0</td>\n",
              "    </tr>\n",
              "    <tr>\n",
              "      <th>2</th>\n",
              "      <td>4141</td>\n",
              "      <td>1965</td>\n",
              "      <td>Graduation</td>\n",
              "      <td>Together</td>\n",
              "      <td>71613.0</td>\n",
              "      <td>0</td>\n",
              "      <td>0</td>\n",
              "      <td>21-08-2013</td>\n",
              "      <td>26</td>\n",
              "      <td>426</td>\n",
              "      <td>...</td>\n",
              "      <td>4</td>\n",
              "      <td>0</td>\n",
              "      <td>0</td>\n",
              "      <td>0</td>\n",
              "      <td>0</td>\n",
              "      <td>0</td>\n",
              "      <td>0</td>\n",
              "      <td>3</td>\n",
              "      <td>11</td>\n",
              "      <td>0</td>\n",
              "    </tr>\n",
              "    <tr>\n",
              "      <th>3</th>\n",
              "      <td>6182</td>\n",
              "      <td>1984</td>\n",
              "      <td>Graduation</td>\n",
              "      <td>Together</td>\n",
              "      <td>26646.0</td>\n",
              "      <td>1</td>\n",
              "      <td>0</td>\n",
              "      <td>10-02-2014</td>\n",
              "      <td>26</td>\n",
              "      <td>11</td>\n",
              "      <td>...</td>\n",
              "      <td>6</td>\n",
              "      <td>0</td>\n",
              "      <td>0</td>\n",
              "      <td>0</td>\n",
              "      <td>0</td>\n",
              "      <td>0</td>\n",
              "      <td>0</td>\n",
              "      <td>3</td>\n",
              "      <td>11</td>\n",
              "      <td>0</td>\n",
              "    </tr>\n",
              "    <tr>\n",
              "      <th>4</th>\n",
              "      <td>5324</td>\n",
              "      <td>1981</td>\n",
              "      <td>PhD</td>\n",
              "      <td>Married</td>\n",
              "      <td>58293.0</td>\n",
              "      <td>1</td>\n",
              "      <td>0</td>\n",
              "      <td>19-01-2014</td>\n",
              "      <td>94</td>\n",
              "      <td>173</td>\n",
              "      <td>...</td>\n",
              "      <td>5</td>\n",
              "      <td>0</td>\n",
              "      <td>0</td>\n",
              "      <td>0</td>\n",
              "      <td>0</td>\n",
              "      <td>0</td>\n",
              "      <td>0</td>\n",
              "      <td>3</td>\n",
              "      <td>11</td>\n",
              "      <td>0</td>\n",
              "    </tr>\n",
              "  </tbody>\n",
              "</table>\n",
              "<p>5 rows × 29 columns</p>\n",
              "</div>\n",
              "    <div class=\"colab-df-buttons\">\n",
              "\n",
              "  <div class=\"colab-df-container\">\n",
              "    <button class=\"colab-df-convert\" onclick=\"convertToInteractive('df-ed975b55-51f0-45e8-bd34-89b79f8af35f')\"\n",
              "            title=\"Convert this dataframe to an interactive table.\"\n",
              "            style=\"display:none;\">\n",
              "\n",
              "  <svg xmlns=\"http://www.w3.org/2000/svg\" height=\"24px\" viewBox=\"0 -960 960 960\">\n",
              "    <path d=\"M120-120v-720h720v720H120Zm60-500h600v-160H180v160Zm220 220h160v-160H400v160Zm0 220h160v-160H400v160ZM180-400h160v-160H180v160Zm440 0h160v-160H620v160ZM180-180h160v-160H180v160Zm440 0h160v-160H620v160Z\"/>\n",
              "  </svg>\n",
              "    </button>\n",
              "\n",
              "  <style>\n",
              "    .colab-df-container {\n",
              "      display:flex;\n",
              "      gap: 12px;\n",
              "    }\n",
              "\n",
              "    .colab-df-convert {\n",
              "      background-color: #E8F0FE;\n",
              "      border: none;\n",
              "      border-radius: 50%;\n",
              "      cursor: pointer;\n",
              "      display: none;\n",
              "      fill: #1967D2;\n",
              "      height: 32px;\n",
              "      padding: 0 0 0 0;\n",
              "      width: 32px;\n",
              "    }\n",
              "\n",
              "    .colab-df-convert:hover {\n",
              "      background-color: #E2EBFA;\n",
              "      box-shadow: 0px 1px 2px rgba(60, 64, 67, 0.3), 0px 1px 3px 1px rgba(60, 64, 67, 0.15);\n",
              "      fill: #174EA6;\n",
              "    }\n",
              "\n",
              "    .colab-df-buttons div {\n",
              "      margin-bottom: 4px;\n",
              "    }\n",
              "\n",
              "    [theme=dark] .colab-df-convert {\n",
              "      background-color: #3B4455;\n",
              "      fill: #D2E3FC;\n",
              "    }\n",
              "\n",
              "    [theme=dark] .colab-df-convert:hover {\n",
              "      background-color: #434B5C;\n",
              "      box-shadow: 0px 1px 3px 1px rgba(0, 0, 0, 0.15);\n",
              "      filter: drop-shadow(0px 1px 2px rgba(0, 0, 0, 0.3));\n",
              "      fill: #FFFFFF;\n",
              "    }\n",
              "  </style>\n",
              "\n",
              "    <script>\n",
              "      const buttonEl =\n",
              "        document.querySelector('#df-ed975b55-51f0-45e8-bd34-89b79f8af35f button.colab-df-convert');\n",
              "      buttonEl.style.display =\n",
              "        google.colab.kernel.accessAllowed ? 'block' : 'none';\n",
              "\n",
              "      async function convertToInteractive(key) {\n",
              "        const element = document.querySelector('#df-ed975b55-51f0-45e8-bd34-89b79f8af35f');\n",
              "        const dataTable =\n",
              "          await google.colab.kernel.invokeFunction('convertToInteractive',\n",
              "                                                    [key], {});\n",
              "        if (!dataTable) return;\n",
              "\n",
              "        const docLinkHtml = 'Like what you see? Visit the ' +\n",
              "          '<a target=\"_blank\" href=https://colab.research.google.com/notebooks/data_table.ipynb>data table notebook</a>'\n",
              "          + ' to learn more about interactive tables.';\n",
              "        element.innerHTML = '';\n",
              "        dataTable['output_type'] = 'display_data';\n",
              "        await google.colab.output.renderOutput(dataTable, element);\n",
              "        const docLink = document.createElement('div');\n",
              "        docLink.innerHTML = docLinkHtml;\n",
              "        element.appendChild(docLink);\n",
              "      }\n",
              "    </script>\n",
              "  </div>\n",
              "\n",
              "\n",
              "    <div id=\"df-469d19ac-83dd-407a-aee1-690c8f71e6c4\">\n",
              "      <button class=\"colab-df-quickchart\" onclick=\"quickchart('df-469d19ac-83dd-407a-aee1-690c8f71e6c4')\"\n",
              "                title=\"Suggest charts\"\n",
              "                style=\"display:none;\">\n",
              "\n",
              "<svg xmlns=\"http://www.w3.org/2000/svg\" height=\"24px\"viewBox=\"0 0 24 24\"\n",
              "     width=\"24px\">\n",
              "    <g>\n",
              "        <path d=\"M19 3H5c-1.1 0-2 .9-2 2v14c0 1.1.9 2 2 2h14c1.1 0 2-.9 2-2V5c0-1.1-.9-2-2-2zM9 17H7v-7h2v7zm4 0h-2V7h2v10zm4 0h-2v-4h2v4z\"/>\n",
              "    </g>\n",
              "</svg>\n",
              "      </button>\n",
              "\n",
              "<style>\n",
              "  .colab-df-quickchart {\n",
              "      --bg-color: #E8F0FE;\n",
              "      --fill-color: #1967D2;\n",
              "      --hover-bg-color: #E2EBFA;\n",
              "      --hover-fill-color: #174EA6;\n",
              "      --disabled-fill-color: #AAA;\n",
              "      --disabled-bg-color: #DDD;\n",
              "  }\n",
              "\n",
              "  [theme=dark] .colab-df-quickchart {\n",
              "      --bg-color: #3B4455;\n",
              "      --fill-color: #D2E3FC;\n",
              "      --hover-bg-color: #434B5C;\n",
              "      --hover-fill-color: #FFFFFF;\n",
              "      --disabled-bg-color: #3B4455;\n",
              "      --disabled-fill-color: #666;\n",
              "  }\n",
              "\n",
              "  .colab-df-quickchart {\n",
              "    background-color: var(--bg-color);\n",
              "    border: none;\n",
              "    border-radius: 50%;\n",
              "    cursor: pointer;\n",
              "    display: none;\n",
              "    fill: var(--fill-color);\n",
              "    height: 32px;\n",
              "    padding: 0;\n",
              "    width: 32px;\n",
              "  }\n",
              "\n",
              "  .colab-df-quickchart:hover {\n",
              "    background-color: var(--hover-bg-color);\n",
              "    box-shadow: 0 1px 2px rgba(60, 64, 67, 0.3), 0 1px 3px 1px rgba(60, 64, 67, 0.15);\n",
              "    fill: var(--button-hover-fill-color);\n",
              "  }\n",
              "\n",
              "  .colab-df-quickchart-complete:disabled,\n",
              "  .colab-df-quickchart-complete:disabled:hover {\n",
              "    background-color: var(--disabled-bg-color);\n",
              "    fill: var(--disabled-fill-color);\n",
              "    box-shadow: none;\n",
              "  }\n",
              "\n",
              "  .colab-df-spinner {\n",
              "    border: 2px solid var(--fill-color);\n",
              "    border-color: transparent;\n",
              "    border-bottom-color: var(--fill-color);\n",
              "    animation:\n",
              "      spin 1s steps(1) infinite;\n",
              "  }\n",
              "\n",
              "  @keyframes spin {\n",
              "    0% {\n",
              "      border-color: transparent;\n",
              "      border-bottom-color: var(--fill-color);\n",
              "      border-left-color: var(--fill-color);\n",
              "    }\n",
              "    20% {\n",
              "      border-color: transparent;\n",
              "      border-left-color: var(--fill-color);\n",
              "      border-top-color: var(--fill-color);\n",
              "    }\n",
              "    30% {\n",
              "      border-color: transparent;\n",
              "      border-left-color: var(--fill-color);\n",
              "      border-top-color: var(--fill-color);\n",
              "      border-right-color: var(--fill-color);\n",
              "    }\n",
              "    40% {\n",
              "      border-color: transparent;\n",
              "      border-right-color: var(--fill-color);\n",
              "      border-top-color: var(--fill-color);\n",
              "    }\n",
              "    60% {\n",
              "      border-color: transparent;\n",
              "      border-right-color: var(--fill-color);\n",
              "    }\n",
              "    80% {\n",
              "      border-color: transparent;\n",
              "      border-right-color: var(--fill-color);\n",
              "      border-bottom-color: var(--fill-color);\n",
              "    }\n",
              "    90% {\n",
              "      border-color: transparent;\n",
              "      border-bottom-color: var(--fill-color);\n",
              "    }\n",
              "  }\n",
              "</style>\n",
              "\n",
              "      <script>\n",
              "        async function quickchart(key) {\n",
              "          const quickchartButtonEl =\n",
              "            document.querySelector('#' + key + ' button');\n",
              "          quickchartButtonEl.disabled = true;  // To prevent multiple clicks.\n",
              "          quickchartButtonEl.classList.add('colab-df-spinner');\n",
              "          try {\n",
              "            const charts = await google.colab.kernel.invokeFunction(\n",
              "                'suggestCharts', [key], {});\n",
              "          } catch (error) {\n",
              "            console.error('Error during call to suggestCharts:', error);\n",
              "          }\n",
              "          quickchartButtonEl.classList.remove('colab-df-spinner');\n",
              "          quickchartButtonEl.classList.add('colab-df-quickchart-complete');\n",
              "        }\n",
              "        (() => {\n",
              "          let quickchartButtonEl =\n",
              "            document.querySelector('#df-469d19ac-83dd-407a-aee1-690c8f71e6c4 button');\n",
              "          quickchartButtonEl.style.display =\n",
              "            google.colab.kernel.accessAllowed ? 'block' : 'none';\n",
              "        })();\n",
              "      </script>\n",
              "    </div>\n",
              "\n",
              "    </div>\n",
              "  </div>\n"
            ],
            "application/vnd.google.colaboratory.intrinsic+json": {
              "type": "dataframe",
              "variable_name": "df"
            }
          },
          "metadata": {},
          "execution_count": 3
        }
      ]
    },
    {
      "cell_type": "code",
      "source": [
        "df.info()"
      ],
      "metadata": {
        "colab": {
          "base_uri": "https://localhost:8080/"
        },
        "id": "sNEhxxvE9Rny",
        "outputId": "4cbbf73d-422e-45e5-feec-e83bcb53f4ed"
      },
      "execution_count": null,
      "outputs": [
        {
          "output_type": "stream",
          "name": "stdout",
          "text": [
            "<class 'pandas.core.frame.DataFrame'>\n",
            "RangeIndex: 2240 entries, 0 to 2239\n",
            "Data columns (total 29 columns):\n",
            " #   Column               Non-Null Count  Dtype  \n",
            "---  ------               --------------  -----  \n",
            " 0   ID                   2240 non-null   int64  \n",
            " 1   Year_Birth           2240 non-null   int64  \n",
            " 2   Education            2240 non-null   object \n",
            " 3   Marital_Status       2240 non-null   object \n",
            " 4   Income               2216 non-null   float64\n",
            " 5   Kidhome              2240 non-null   int64  \n",
            " 6   Teenhome             2240 non-null   int64  \n",
            " 7   Dt_Customer          2240 non-null   object \n",
            " 8   Recency              2240 non-null   int64  \n",
            " 9   MntWines             2240 non-null   int64  \n",
            " 10  MntFruits            2240 non-null   int64  \n",
            " 11  MntMeatProducts      2240 non-null   int64  \n",
            " 12  MntFishProducts      2240 non-null   int64  \n",
            " 13  MntSweetProducts     2240 non-null   int64  \n",
            " 14  MntGoldProds         2240 non-null   int64  \n",
            " 15  NumDealsPurchases    2240 non-null   int64  \n",
            " 16  NumWebPurchases      2240 non-null   int64  \n",
            " 17  NumCatalogPurchases  2240 non-null   int64  \n",
            " 18  NumStorePurchases    2240 non-null   int64  \n",
            " 19  NumWebVisitsMonth    2240 non-null   int64  \n",
            " 20  AcceptedCmp3         2240 non-null   int64  \n",
            " 21  AcceptedCmp4         2240 non-null   int64  \n",
            " 22  AcceptedCmp5         2240 non-null   int64  \n",
            " 23  AcceptedCmp1         2240 non-null   int64  \n",
            " 24  AcceptedCmp2         2240 non-null   int64  \n",
            " 25  Complain             2240 non-null   int64  \n",
            " 26  Z_CostContact        2240 non-null   int64  \n",
            " 27  Z_Revenue            2240 non-null   int64  \n",
            " 28  Response             2240 non-null   int64  \n",
            "dtypes: float64(1), int64(25), object(3)\n",
            "memory usage: 507.6+ KB\n"
          ]
        }
      ]
    },
    {
      "cell_type": "markdown",
      "source": [
        "```\n",
        "Pada uji hipotesis, variabel penting yang dipilih:\n",
        "\n",
        "Recency(numerik) dan Complain(kategorikal)\n",
        "→ untuk mengetahui Apakah ada perbedaan waktu kunjungan terakhir antara pelanggan yang pernah komplain  \n",
        "  dan yang tidak komplain mengujungi?\n",
        "```"
      ],
      "metadata": {
        "id": "kBj7_qsK9T_m"
      }
    },
    {
      "cell_type": "code",
      "source": [
        "# Statistik kolom numerik\n",
        "print(df['Recency'].describe())"
      ],
      "metadata": {
        "colab": {
          "base_uri": "https://localhost:8080/"
        },
        "id": "e-hLxbHk9Wln",
        "outputId": "72cbd4b0-2727-4bb9-b5c3-ee5fdf9cf02c"
      },
      "execution_count": null,
      "outputs": [
        {
          "output_type": "stream",
          "name": "stdout",
          "text": [
            "count    2240.000000\n",
            "mean       49.109375\n",
            "std        28.962453\n",
            "min         0.000000\n",
            "25%        24.000000\n",
            "50%        49.000000\n",
            "75%        74.000000\n",
            "max        99.000000\n",
            "Name: Recency, dtype: float64\n"
          ]
        }
      ]
    },
    {
      "cell_type": "code",
      "source": [
        "# Distribusi kategori Complain\n",
        "print(df['Complain'].value_counts()) #0 = tidak, 1 = ya"
      ],
      "metadata": {
        "colab": {
          "base_uri": "https://localhost:8080/"
        },
        "id": "gjtM82QY9zKD",
        "outputId": "753e33ce-58a2-45b1-966c-aeca09ac8b04"
      },
      "execution_count": null,
      "outputs": [
        {
          "output_type": "stream",
          "name": "stdout",
          "text": [
            "Complain\n",
            "0    2219\n",
            "1      21\n",
            "Name: count, dtype: int64\n"
          ]
        }
      ]
    },
    {
      "cell_type": "code",
      "source": [
        "print(df.groupby(\"Complain\")[\"Recency\"].mean())"
      ],
      "metadata": {
        "colab": {
          "base_uri": "https://localhost:8080/"
        },
        "id": "4KPfQs3PORWe",
        "outputId": "44e40cbe-db6d-4002-d5cc-eb5a03ad5e69"
      },
      "execution_count": null,
      "outputs": [
        {
          "output_type": "stream",
          "name": "stdout",
          "text": [
            "Complain\n",
            "0    49.072105\n",
            "1    53.047619\n",
            "Name: Recency, dtype: float64\n"
          ]
        }
      ]
    },
    {
      "cell_type": "code",
      "source": [
        "plt.figure(figsize=(10, 4))\n",
        "sns.histplot(data=df, x='Recency', hue='Complain', kde=True, bins=30)\n",
        "plt.title('Distribusi Recency berdasarkan Complain')\n",
        "plt.xlabel('Recency (Hari sejak kunjungan terakhir)')\n",
        "plt.ylabel('Jumlah Pelanggan')\n",
        "plt.show()"
      ],
      "metadata": {
        "colab": {
          "base_uri": "https://localhost:8080/",
          "height": 410
        },
        "id": "c2ThGldW-h9N",
        "outputId": "8e35863f-f841-4c42-9bf4-4c47785c9917"
      },
      "execution_count": null,
      "outputs": [
        {
          "output_type": "display_data",
          "data": {
            "text/plain": [
              "<Figure size 1000x400 with 1 Axes>"
            ],
            "image/png": "[encoded data removed]"
          },
          "metadata": {}
        }
      ]
    },
    {
      "cell_type": "code",
      "source": [
        "# Visualisasi boxplot untuk cek outlier pada Recency berdasarkan Complain\n",
        "plt.figure(figsize=(10, 4))\n",
        "sns.boxplot(data=df, x='Recency', y='Complain', orient='h')\n",
        "plt.title('Boxplot Recency berdasarkan Complain')\n",
        "plt.xlabel('Recency (Hari sejak kunjungan terakhir)')\n",
        "plt.ylabel('Complain (0 = Tidak, 1 = Ya)')\n",
        "plt.tight_layout()\n",
        "plt.show()"
      ],
      "metadata": {
        "colab": {
          "base_uri": "https://localhost:8080/",
          "height": 407
        },
        "id": "REG_aqWTFtjm",
        "outputId": "1d46353d-874b-4b1a-8f6c-2529cfd35ad6"
      },
      "execution_count": null,
      "outputs": [
        {
          "output_type": "display_data",
          "data": {
            "text/plain": [
              "<Figure size 1000x400 with 1 Axes>"
            ],
            "image/png": "[encoded data removed]"
          },
          "metadata": {}
        }
      ]
    },
    {
      "cell_type": "code",
      "source": [
        "# Skewness Recency untuk pelanggan yang tidak komplain\n",
        "skew_0 = skew(df[df['Complain'] == 0]['Recency'])\n",
        "\n",
        "# Skewness Recency untuk pelanggan yang komplain\n",
        "skew_1 = skew(df[df['Complain'] == 1]['Recency'])\n",
        "\n",
        "print(f\"Skewness Recency (Complain = 0): {skew_0}\")\n",
        "print(f\"Skewness Recency (Complain = 1): {skew_1}\")"
      ],
      "metadata": {
        "colab": {
          "base_uri": "https://localhost:8080/"
        },
        "id": "x_HN5g9UBEGk",
        "outputId": "f25d17bb-313b-46f9-b415-049949817d71"
      },
      "execution_count": null,
      "outputs": [
        {
          "output_type": "stream",
          "name": "stdout",
          "text": [
            "Skewness Recency (Complain = 0): -0.0025461097270891666\n",
            "Skewness Recency (Complain = 1): 0.09699672779859346\n"
          ]
        }
      ]
    },
    {
      "cell_type": "markdown",
      "source": [
        "**Interpretasi hasil eksplorasi**\n",
        "```\n",
        "- Pada visual Histogram terlihat berbentuk bimodal, terlihat tidak simetris sempurna dan tidak terlalu jelas arah skewnya.\n",
        "- Bentuk skew: normal, tidak terlihat mencolok menunjukkan condong kekanan/kiri(hampir simetris).\n",
        "- Skew ekstrim: tidak terlihat terlalu miring/condong kekanan/kiri.\n",
        "- Outlier: tidak terlihat outlier mencolok.\n",
        "- Pada cek skewness, yang tidak complain mendekati 0(tidak miring),\n",
        "  sedangkan complain agak sedikit kekanan. Sehingga keduanya mendekati simetris\n",
        "\n",
        "\n",
        "```"
      ],
      "metadata": {
        "id": "jFuvp0EWDwvB"
      }
    },
    {
      "cell_type": "markdown",
      "source": [
        "##**Soal 2: Uji Hipotesis dan Soal 3: Interpretasi dan Kesimpulan**\n",
        "```\n",
        " a. Definisikan hipotesis yang relevan sesuai dengan tujuan analisis.\n",
        " b. Pilih metode uji hipotesis yang sesuai dengan jenis data dan tujuan analisis.\n",
        " c. Pastikan pemilihan metode (misalnya t-test, ANOVA, atau Chi-Square)dilakukan dengan mempertimbangkan asumsi\n",
        "    statistik yang diperlukan.\n",
        " d. Hitung nilai p-value dan interpretasikan hasilnya untuk menentukan apakah H0 dapat diterima atau ditolak.\n",
        "\n",
        "Goal: Menguji hipotesis menggunakan metode statistik yang sesuai dan menginterpretasikan hasilnya.\n",
        "\n",
        "\n",
        " e. Analisis hasil uji hipotesis dan hubungkan dengan konteks data.\n",
        " f. Tinjau dampak dari hasil analisis terhadap pengambilan keputusan atau\n",
        "    langkah selanjutnya dalam penelitian.\n",
        " g. Pastikan kesimpulan didukung oleh hasil statistik yang diperoleh.\n",
        "\n",
        "Goal: Menarik kesimpulan berdasarkan hasil analisis statistik.\n",
        "```"
      ],
      "metadata": {
        "id": "eIKlBvyQNq-5"
      }
    },
    {
      "cell_type": "markdown",
      "source": [
        "**Hipotesis yang diuji**\n",
        "```\n",
        "H0: Tidak terdapat perbedaan waktu kunjungan terakhir (Recency) antara pelanggan yang komplain dan yang tidak komplain.\n",
        "H1: Terdapat perbedaan waktu kunjungan terakhir (Recency) antara pelanggan yang komplain dan yang tidak komplain.\n",
        "\n",
        "Hipotesis 2 sisi\n",
        "H₀: 𝜇1 = 𝜇2\n",
        "H₁: 𝜇1 != 𝜇2\n",
        "```"
      ],
      "metadata": {
        "id": "IvSajCK4sxAI"
      }
    },
    {
      "cell_type": "markdown",
      "source": [
        "**Metode yang dipilih**\n",
        "```\n",
        "Dari interpretasikan hasil eksplorasi tersebut maka menggunakan Two Sample T-test (Independent) karena:\n",
        "- Menguji 2 sisi yaitu apakah tidak ada perbedaan rata-rata atau ada perbedaan rata-rata.\n",
        "- 2 grup(recency dan complain) tidak berhubungan dan berasal dari populasi berbeda.\n",
        "- Pada visualisasi histogram menunjukkan distribusi mendekati normal tidak terlalu miring terlihat dari rentang (1-100),\n",
        "  dan boxplot tidak menunjukkan adanya outlier mencolok.\n",
        "- Kelompok tidak saling bergantung(independent).\n",
        "```"
      ],
      "metadata": {
        "id": "QfZYlZKJMbJY"
      }
    },
    {
      "cell_type": "markdown",
      "source": [
        "**Menguji distribusi**\n",
        "```\n",
        "Apakah data terdistribusi normal atau tidak dengan:\n",
        "- p-value > 0.05: distribusi normal.\n",
        "- p-value <= 0.05: distribusi tidak normal.\n",
        "\n",
        "Memastikan apakah bisa menggunakan uji T-test(dimana distribusi harus normal).\n",
        "```"
      ],
      "metadata": {
        "id": "aCIe0aRoTM6Y"
      }
    },
    {
      "cell_type": "code",
      "source": [
        "# Shapiro-Wilk Test untuk Recency berdasarkan Complain = 0 (Tidak Komplain)\n",
        "stat_0, p_0 = shapiro(df[df['Complain'] == 0]['Recency'])\n",
        "print(f\"Statistik Complain = 0: {stat_0:.2f},\\nP-value Complain = 0: {p_0}\")"
      ],
      "metadata": {
        "colab": {
          "base_uri": "https://localhost:8080/"
        },
        "id": "NVZ5gu4CUNBJ",
        "outputId": "b0bf13e5-87d0-487e-ac18-0f8d42e9ba8d"
      },
      "execution_count": null,
      "outputs": [
        {
          "output_type": "stream",
          "name": "stdout",
          "text": [
            "Statistik Complain = 0: 0.95,\n",
            "P-value Complain = 0: 6.92428701280934e-26\n"
          ]
        }
      ]
    },
    {
      "cell_type": "code",
      "source": [
        "# Shapiro-Wilk Test untuk Recency berdasarkan Complain = 1 (Komplain)\n",
        "stat_1, p_1 = shapiro(df[df['Complain'] == 1]['Recency'])\n",
        "print(f\"Statistik Complain = 1: {stat_1:.2f},\\nP-value Complain = 1: {p_1:.5f}\")"
      ],
      "metadata": {
        "colab": {
          "base_uri": "https://localhost:8080/"
        },
        "id": "nCMB5oe_VeQL",
        "outputId": "277d7eb2-1f8f-42a2-977d-9d3f45d4d2ad"
      },
      "execution_count": null,
      "outputs": [
        {
          "output_type": "stream",
          "name": "stdout",
          "text": [
            "Statistik Complain = 1: 0.95,\n",
            "P-value Complain = 1: 0.36316\n"
          ]
        }
      ]
    },
    {
      "cell_type": "markdown",
      "source": [
        "```\n",
        "Hasil shapiro-Wilk Test:\n",
        "- Complain = 0, p-value = 0 berarti distribusi tidak normal.\n",
        "- Complain = 1, p-value = 0,3632 berarti distribusi normal.\n",
        "\n",
        "Terdapat salah satu terdistribusi tidak normal maka lebih baik menggunakan Mann-Whitney.\n",
        "Tidak perlu cek variansi homogen/non homogen dengan Lavene's\n",
        "```"
      ],
      "metadata": {
        "id": "pUKE0UXelJA0"
      }
    },
    {
      "cell_type": "markdown",
      "source": [
        "**Uji Mann-Whitney**\n",
        "```\n",
        "Apakah menolak H0 atau tidak\n",
        "- p < 0.05: menolak H0\n",
        "- p >= 0.05: Gagal menolak H0\n",
        "```"
      ],
      "metadata": {
        "id": "B4r1ujLYszUg"
      }
    },
    {
      "cell_type": "code",
      "source": [
        "Komplain_0 = df[df['Complain'] == 0]['Recency']\n",
        "Komplain_1 = df[df['Complain'] == 1]['Recency']\n",
        "\n",
        "stat, p = mannwhitneyu(Komplain_0, Komplain_1)\n",
        "print(f\"Statistik Uji: {stat}, P-value: {p:.5f}\")"
      ],
      "metadata": {
        "colab": {
          "base_uri": "https://localhost:8080/"
        },
        "id": "aZibGf3ZVex-",
        "outputId": "00b9ea01-7531-43dd-f223-76e109358f2e"
      },
      "execution_count": null,
      "outputs": [
        {
          "output_type": "stream",
          "name": "stdout",
          "text": [
            "Statistik Uji: 21446.5, P-value: 0.53000\n"
          ]
        }
      ]
    },
    {
      "cell_type": "markdown",
      "source": [
        "```\n",
        "Hasil uji hipotesisnya bahwa p-value(0,53 > 0,05) berarti gagal menolak H0(menerima H0).\n",
        "\n",
        "Maka tidak ada cukup bukti bahwa ada perbedaan yang signifikan secara statistik,\n",
        "dalam waktu kunjungan terakhir (Recency) antara pelanggan yang pernah komplain dan yang tidak.\n",
        "\n",
        "```"
      ],
      "metadata": {
        "id": "o9w6gxVgpake"
      }
    },
    {
      "cell_type": "markdown",
      "source": [
        "**Inti kesimpulan berdasarkan statistik**\n",
        "```\n",
        "- Hasil rata-rata Recency berdasarkan nilai Complain:\n",
        "  1. Complain = 0 → 49.07\n",
        "  2. Complain = 1 → 53.05\n",
        "\n",
        "- Distribusi(Shapiro-Wilk Test):\n",
        "  1. Complain = 0 → distribusi tidak normal\n",
        "  2. Complain = 1 → distribusi normal\n",
        "\n",
        "- Mann-Whitney two sample:\n",
        "  p-value(0.53 > 0.05)  \n",
        "\n",
        "Meskipun mean pada recency yang complain sedikit lebih tinggi dibanding tidak complain, hasil uji Mann-Whitney berupa\n",
        "p-value > 0.05 menunjukkan gagal menolak H0 yang berarti tidak cukup bukti ada perbedaan tersebut dalam waktu\n",
        "kunjungan terakhir(Recency) antara pelanggan yang pernah komplain dan yang tidak.\n",
        "  \n"
      ],
      "metadata": {
        "id": "hoEdGbkpTpfk"
      }
    },
    {
      "cell_type": "code",
      "source": [],
      "metadata": {
        "id": "ccld2E2vSFaK"
      },
      "execution_count": null,
      "outputs": []
    }
  ]
}